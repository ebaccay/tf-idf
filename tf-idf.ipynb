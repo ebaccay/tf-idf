{
 "cells": [
  {
   "cell_type": "markdown",
   "metadata": {},
   "source": [
    "# TF-IDF\n",
    "## For Feature Selection and Classification"
   ]
  },
  {
   "cell_type": "code",
   "execution_count": 94,
   "metadata": {},
   "outputs": [],
   "source": [
    "#Important imports for easy TF-IDF.\n",
    "import numpy as np\n",
    "import math\n",
    "\n",
    "#For importing data*\n",
    "from datascience import *\n",
    "\n",
    "#For plotting progress\n",
    "import matplotlib\n",
    "matplotlib.use('Agg', warn=False)\n",
    "%matplotlib inline\n",
    "import matplotlib.pyplot as plots\n",
    "plots.style.use('fivethirtyeight')\n",
    "import warnings\n",
    "warnings.simplefilter(action=\"ignore\", category=FutureWarning)\n",
    "\n",
    "# *The data science library was used as a simple and lightweight package from the UC Berkeley course Data 8\n",
    "# Check out http://data8.org/ for more information!"
   ]
  },
  {
   "cell_type": "code",
   "execution_count": 37,
   "metadata": {},
   "outputs": [
    {
     "data": {
      "text/html": [
       "<table border=\"1\" class=\"dataframe\">\n",
       "    <thead>\n",
       "        <tr>\n",
       "            <th>Title</th> <th>Genre</th> <th>hi</th>\n",
       "        </tr>\n",
       "    </thead>\n",
       "    <tbody>\n",
       "        <tr>\n",
       "            <td>the terminator</td> <td>action</td> <td>0.00108167</td>\n",
       "        </tr>\n",
       "    </tbody>\n",
       "</table>\n",
       "<p>... (241 rows omitted)</p>"
      ],
      "text/plain": [
       "<IPython.core.display.HTML object>"
      ]
     },
     "metadata": {},
     "output_type": "display_data"
    },
    {
     "data": {
      "text/html": [
       "<table border=\"1\" class=\"dataframe\">\n",
       "    <thead>\n",
       "        <tr>\n",
       "            <th>Title</th> <th>Genre</th> <th>hi</th>\n",
       "        </tr>\n",
       "    </thead>\n",
       "    <tbody>\n",
       "        <tr>\n",
       "            <td>the terminator</td> <td>action</td> <td>0.00108167</td>\n",
       "        </tr>\n",
       "    </tbody>\n",
       "</table>\n",
       "<p>... (134 rows omitted)</p>"
      ],
      "text/plain": [
       "<IPython.core.display.HTML object>"
      ]
     },
     "metadata": {},
     "output_type": "display_data"
    },
    {
     "data": {
      "text/html": [
       "<table border=\"1\" class=\"dataframe\">\n",
       "    <thead>\n",
       "        <tr>\n",
       "            <th>Title</th> <th>Genre</th> <th>hi</th>\n",
       "        </tr>\n",
       "    </thead>\n",
       "    <tbody>\n",
       "        <tr>\n",
       "            <td>airplane ii: the sequel</td> <td>romance</td> <td>0.00300687</td>\n",
       "        </tr>\n",
       "    </tbody>\n",
       "</table>\n",
       "<p>... (106 rows omitted)</p>"
      ],
      "text/plain": [
       "<IPython.core.display.HTML object>"
      ]
     },
     "metadata": {},
     "output_type": "display_data"
    }
   ],
   "source": [
    "movies = Table().read_table(\"movies.csv\") # Movies are already preprocessed\n",
    "action = movies.where(\"Genre\", \"action\")\n",
    "romance = movies.where(\"Genre\", \"romance\")\n",
    "movies.select(\"Title\", \"Genre\", \"hi\").show(1)\n",
    "action.select(\"Title\", \"Genre\", \"hi\").show(1)\n",
    "romance.select(\"Title\", \"Genre\", \"hi\").show(1)"
   ]
  },
  {
   "cell_type": "code",
   "execution_count": 38,
   "metadata": {},
   "outputs": [
    {
     "name": "stderr",
     "output_type": "stream",
     "text": [
      "c:\\users\\ervin baccay\\appdata\\local\\programs\\python\\python35\\lib\\site-packages\\ipykernel_launcher.py:7: RuntimeWarning: divide by zero encountered in log\n",
      "  import sys\n"
     ]
    }
   ],
   "source": [
    "discard = [\"Title\", \"Genre\", \"Year\", \"Rating\", \"# Votes\", \"# Words\"]\n",
    "\n",
    "term_frequencies = movies.drop(discard)\n",
    "inverse_document_frequency = []\n",
    "num_words = term_frequencies.num_columns\n",
    "for l in term_frequencies.labels:\n",
    "    inverse_document_frequency.append(np.log((np.count_nonzero(term_frequencies.column(l) != 0))) / num_words)"
   ]
  },
  {
   "cell_type": "code",
   "execution_count": 39,
   "metadata": {},
   "outputs": [
    {
     "data": {
      "text/html": [
       "<table border=\"1\" class=\"dataframe\">\n",
       "    <thead>\n",
       "        <tr>\n",
       "            <th>Words</th> <th>IDF</th>\n",
       "        </tr>\n",
       "    </thead>\n",
       "    <tbody>\n",
       "        <tr>\n",
       "            <td>that </td> <td>0.00109779</td>\n",
       "        </tr>\n",
       "    </tbody>\n",
       "        <tr>\n",
       "            <td>a    </td> <td>0.00109779</td>\n",
       "        </tr>\n",
       "    </tbody>\n",
       "        <tr>\n",
       "            <td>to   </td> <td>0.00109779</td>\n",
       "        </tr>\n",
       "    </tbody>\n",
       "        <tr>\n",
       "            <td>the  </td> <td>0.00109779</td>\n",
       "        </tr>\n",
       "    </tbody>\n",
       "        <tr>\n",
       "            <td>i    </td> <td>0.00109779</td>\n",
       "        </tr>\n",
       "    </tbody>\n",
       "        <tr>\n",
       "            <td>no   </td> <td>0.00109696</td>\n",
       "        </tr>\n",
       "    </tbody>\n",
       "        <tr>\n",
       "            <td>im   </td> <td>0.00109696</td>\n",
       "        </tr>\n",
       "    </tbody>\n",
       "        <tr>\n",
       "            <td>thi  </td> <td>0.00109696</td>\n",
       "        </tr>\n",
       "    </tbody>\n",
       "        <tr>\n",
       "            <td>do   </td> <td>0.00109696</td>\n",
       "        </tr>\n",
       "    </tbody>\n",
       "        <tr>\n",
       "            <td>is   </td> <td>0.00109696</td>\n",
       "        </tr>\n",
       "    </tbody>\n",
       "</table>\n",
       "<p>... (4990 rows omitted)</p>"
      ],
      "text/plain": [
       "Words | IDF\n",
       "that  | 0.00109779\n",
       "a     | 0.00109779\n",
       "to    | 0.00109779\n",
       "the   | 0.00109779\n",
       "i     | 0.00109779\n",
       "no    | 0.00109696\n",
       "im    | 0.00109696\n",
       "thi   | 0.00109696\n",
       "do    | 0.00109696\n",
       "is    | 0.00109696\n",
       "... (4990 rows omitted)"
      ]
     },
     "execution_count": 39,
     "metadata": {},
     "output_type": "execute_result"
    }
   ],
   "source": [
    "idf_table = Table().with_column(\"Words\", term_frequencies.labels).with_column(\"IDF\", inverse_document_frequency)\n",
    "idf_table.sort(\"IDF\", descending=True)"
   ]
  },
  {
   "cell_type": "code",
   "execution_count": 47,
   "metadata": {},
   "outputs": [
    {
     "name": "stderr",
     "output_type": "stream",
     "text": [
      "c:\\users\\ervin baccay\\appdata\\local\\programs\\python\\python35\\lib\\site-packages\\ipykernel_launcher.py:5: RuntimeWarning: invalid value encountered in multiply\n",
      "  \"\"\"\n"
     ]
    },
    {
     "data": {
      "text/html": [
       "<table border=\"1\" class=\"dataframe\">\n",
       "    <thead>\n",
       "        <tr>\n",
       "            <th>Title</th> <th>Genre</th> <th>hi</th>\n",
       "        </tr>\n",
       "    </thead>\n",
       "    <tbody>\n",
       "        <tr>\n",
       "            <td>the terminator</td> <td>action</td> <td>1.18109e-06</td>\n",
       "        </tr>\n",
       "    </tbody>\n",
       "</table>\n",
       "<p>... (241 rows omitted)</p>"
      ],
      "text/plain": [
       "<IPython.core.display.HTML object>"
      ]
     },
     "metadata": {},
     "output_type": "display_data"
    }
   ],
   "source": [
    "tf_idf_table = Table()\n",
    "labels = term_frequencies.labels\n",
    "\n",
    "for l in range(len(inverse_document_frequency)):\n",
    "    curr_col = term_frequencies.column(l) * inverse_document_frequency[l]\n",
    "    tf_idf_table = tf_idf_table.with_column(labels[l], curr_col)\n",
    "\n",
    "for d in reversed(discard):\n",
    "    tf_idf_table = tf_idf_table.with_column(d, movies.column(d)).move_to_start(d)\n",
    "    \n",
    "tf_idf_table.to_csv(\"movies_tf_idf.csv\")\n",
    "tf_idf_table.select(\"Title\", \"Genre\", \"hi\").show(1)"
   ]
  },
  {
   "cell_type": "code",
   "execution_count": 50,
   "metadata": {},
   "outputs": [],
   "source": [
    "training_movies = ['the terminator', 'batman', 'tomorrow never dies', 'batman forever',\n",
    "       'supergirl', 'the avengers', 'natural born killers',\n",
    "       'airplane ii: the sequel', 'willow', 'fast times at ridgemont high',\n",
    "       'shakespeare in love', 'superman', 'the crow: salvation',\n",
    "       'die hard', 'from dusk till dawn', 'highlander iii: the sorcerer',\n",
    "       'austin powers: international man of mystery', 'catwoman',\n",
    "       'never been kissed', 'dark angel',\n",
    "       'the adventures of buckaroo banzai across the 8th dimension',\n",
    "       'natural born killers', 'arctic blue', 'the beach', 'true lies',\n",
    "       'hellboy', 'only you', 'man on fire', 'titanic', 'hudson hawk',\n",
    "       'the abyss', 'buffy the vampire slayer', 'braveheart',\n",
    "       'mighty morphin power rangers', 'demolition man', 'runaway bride',\n",
    "       'metro', 'seven', 'bull durham', 'conspiracy theory', 'hackers',\n",
    "       'wild at heart', 'ronin', 'being john malkovich',\n",
    "       'crouching tiger hidden dragon', 'mystery men', 'bloodmoon',\n",
    "       'tombstone', 'star trek v: the final frontier', 'the fifth element',\n",
    "       'ninotchka', 'jurassic park', 'trouble in paradise', 'tron',\n",
    "       'gone in sixty seconds', 'cellular', 'smokey and the bandit',\n",
    "       'alien vs. predator', 'barry lyndon', 'little nicky',\n",
    "       'the princess bride', 'who framed roger rabbit',\n",
    "       'the bridges of madison county', 'reindeer games',\n",
    "       \"my best friend's wedding\", 'lone star',\n",
    "       'the lost world: jurassic park', 'quills', 'the getaway',\n",
    "       'three kings', 'wild wild west', 'what women want', 'feast',\n",
    "       'backdraft', 'charade', 'rocky', 'chill factor', 'jerry maguire',\n",
    "       'total recall', 'true romance', 'highlander', 'mrs brown',\n",
    "       'broadcast news', 'jurassic park iii', 'vertigo',\n",
    "       'enemy of the state', 'my girl', 'batman and robin',\n",
    "       'basic instinct', 'roughshod', 'soldier', 'the thin man',\n",
    "       'point break', 'the lost son', 'tombstone',\n",
    "       'terminator 2: judgment day', 'asylum', 'quantum project',\n",
    "       'manhunt', 'romeo and juliet', 'last of the mohicans',\n",
    "       'the family man', '15 minutes', 'gattaca', 'grand hotel', 'domino',\n",
    "       'sideways', 'rush hour 2', 'birthday girl',\n",
    "       'transatlantic merry-go-round', 'the world is not enough',\n",
    "       'miami vice', 'the jazz singer', 'harold and maude',\n",
    "       'snow falling on cedars', 'star trek vi: the undiscovered country',\n",
    "       'innerspace', 'aliens', 'the rock', 'star trek: the wrath of khan',\n",
    "       'mission: impossible', 'it happened one night',\n",
    "       'as good as it gets', 'ticker', 'deep rising', 'the matrix',\n",
    "       'eternal sunshine of the spotless mind', 'intolerable cruelty',\n",
    "       'lake placid', 'entrapment', 'bachelor party', 'gladiator',\n",
    "       'pretty woman', 'the crow', 'the wedding date',\n",
    "       'star trek iii: the search for spock', 'out of sight',\n",
    "       'the time machine', 'moonstruck', 'punch-drunk love', 'xxx',\n",
    "       \"it's a wonderful life\", 'stranglehold', 'house of the damned',\n",
    "       'the horse whisperer', 'godzilla', 'star trek: first contact',\n",
    "       'the boondock saints', 'silverado', 'get carter',\n",
    "       'an american werewolf in london', 'ghostbusters ii',\n",
    "       'life as a house', 'an american werewolf in paris', 'strange days',\n",
    "       'nurse betty', 'planet of the apes', 'pearl harbor',\n",
    "       'the fabulous baker boys', 'galaxy quest', 'on the waterfront',\n",
    "       'saving private ryan', 'air force one', 'rebel without a cause',\n",
    "       'mission: impossible ii', 'casablanca', 'a walk to remember',\n",
    "       'pearl harbor', 'the french connection', 'predator', 'the graduate',\n",
    "       'the patriot', 'minority report', \"there's something about mary\",\n",
    "       'zulu dawn', 'le grand bleu', 'nuovo cinema paradiso',\n",
    "       'the man in the iron mask', 'hannah and her sisters',\n",
    "       'grosse pointe blank', 'the hustler', 'black rain',\n",
    "       'indiana jones and the temple of doom', 'willow',\n",
    "       'even cowgirls get the blues', 'the english patient',\n",
    "       'someone to watch over me',\n",
    "       'star wars: episode vi - return of the jedi', 'shampoo',\n",
    "       'rush hour', 'pet sematary ii', 'monkeybone', 'virtuosity',\n",
    "       'smokey and the bandit', 'starman', 'his girl friday',\n",
    "       'say anything...', 'fantastic four', 'spider-man',\n",
    "       'star wars: the empire strikes back', 'star trek: generations',\n",
    "       'tremors', 'nothing but a man', 'meet john doe', 'the fisher king']\n",
    "training_set = tf_idf_table.where(\"Title\", lambda x: x in training_movies)\n",
    "testing_set = tf_idf_table.where(\"Title\", lambda x: x not in training_movies)"
   ]
  },
  {
   "cell_type": "code",
   "execution_count": 80,
   "metadata": {},
   "outputs": [],
   "source": [
    "disregarded_lables = [\"Title\", \"Genre\", \"Rating\", \"# Votes\", \"# Words\", \"Year\"]\n",
    "\n",
    "action_movies = training_set.where(\"Genre\", \"action\").drop(disregarded_lables)\n",
    "romance_movies = training_set.where(\"Genre\", \"romance\").drop(disregarded_lables)\n",
    "all_movies = training_set.drop(disregarded_lables + [\"Genre\"])\n",
    "\n",
    "def average_all_rows(tbl):\n",
    "    new_tbl = Table().with_columns(\"Word\", []).with_column(\"Average TF-IDF\", [])\n",
    "    for l in tbl.labels:\n",
    "        new_tbl = new_tbl.with_row([l, np.average(tbl.column(l))])\n",
    "    return new_tbl\n",
    "\n",
    "action_words = average_all_rows(action_movies)\n",
    "romance_words = average_all_rows(romance_movies)\n",
    "movie_words = average_all_rows(all_movies)"
   ]
  },
  {
   "cell_type": "code",
   "execution_count": 81,
   "metadata": {},
   "outputs": [],
   "source": [
    "nan_words = movie_words.where(\"Average TF-IDF\", lambda x: np.isnan(x)).column(\"Word\")\n",
    "\n",
    "action_words = action_words.where(\"Word\", lambda x: x not in nan_words)\n",
    "romance_words = romance_words.where(\"Word\", lambda x: x not in nan_words)\n",
    "movie_words = movie_words.where(\"Word\", lambda x: x not in nan_words)"
   ]
  },
  {
   "cell_type": "code",
   "execution_count": 91,
   "metadata": {},
   "outputs": [
    {
     "data": {
      "text/html": [
       "<table border=\"1\" class=\"dataframe\">\n",
       "    <thead>\n",
       "        <tr>\n",
       "            <th>Word</th> <th>Average TF-IDF</th> <th>Absolute Residual</th>\n",
       "        </tr>\n",
       "    </thead>\n",
       "    <tbody>\n",
       "        <tr>\n",
       "            <td>the  </td> <td>4.3214e-05    </td> <td>7.12225e-06      </td>\n",
       "        </tr>\n",
       "    </tbody>\n",
       "        <tr>\n",
       "            <td>we   </td> <td>9.68344e-06   </td> <td>2.86863e-06      </td>\n",
       "        </tr>\n",
       "    </tbody>\n",
       "        <tr>\n",
       "            <td>of   </td> <td>1.60696e-05   </td> <td>1.64695e-06      </td>\n",
       "        </tr>\n",
       "    </tbody>\n",
       "        <tr>\n",
       "            <td>is   </td> <td>1.21392e-05   </td> <td>1.32334e-06      </td>\n",
       "        </tr>\n",
       "    </tbody>\n",
       "        <tr>\n",
       "            <td>us   </td> <td>3.05785e-06   </td> <td>1.31298e-06      </td>\n",
       "        </tr>\n",
       "    </tbody>\n",
       "        <tr>\n",
       "            <td>thi  </td> <td>1.03301e-05   </td> <td>1.12198e-06      </td>\n",
       "        </tr>\n",
       "    </tbody>\n",
       "        <tr>\n",
       "            <td>them </td> <td>2.94778e-06   </td> <td>1.10569e-06      </td>\n",
       "        </tr>\n",
       "    </tbody>\n",
       "        <tr>\n",
       "            <td>on   </td> <td>8.3568e-06    </td> <td>1.07641e-06      </td>\n",
       "        </tr>\n",
       "    </tbody>\n",
       "        <tr>\n",
       "            <td>they </td> <td>5.51671e-06   </td> <td>1.05934e-06      </td>\n",
       "        </tr>\n",
       "    </tbody>\n",
       "        <tr>\n",
       "            <td>our  </td> <td>2.26346e-06   </td> <td>9.83145e-07      </td>\n",
       "        </tr>\n",
       "    </tbody>\n",
       "        <tr>\n",
       "            <td>out  </td> <td>5.37993e-06   </td> <td>8.10514e-07      </td>\n",
       "        </tr>\n",
       "    </tbody>\n",
       "        <tr>\n",
       "            <td>sir  </td> <td>1.54522e-06   </td> <td>7.66076e-07      </td>\n",
       "        </tr>\n",
       "    </tbody>\n",
       "        <tr>\n",
       "            <td>were </td> <td>4.79196e-06   </td> <td>7.50301e-07      </td>\n",
       "        </tr>\n",
       "    </tbody>\n",
       "        <tr>\n",
       "            <td>there</td> <td>5.97409e-06   </td> <td>6.89579e-07      </td>\n",
       "        </tr>\n",
       "    </tbody>\n",
       "        <tr>\n",
       "            <td>get  </td> <td>6.77846e-06   </td> <td>6.86622e-07      </td>\n",
       "        </tr>\n",
       "    </tbody>\n",
       "        <tr>\n",
       "            <td>got  </td> <td>4.55832e-06   </td> <td>6.53075e-07      </td>\n",
       "        </tr>\n",
       "    </tbody>\n",
       "        <tr>\n",
       "            <td>power</td> <td>7.24276e-07   </td> <td>5.6872e-07       </td>\n",
       "        </tr>\n",
       "    </tbody>\n",
       "        <tr>\n",
       "            <td>are  </td> <td>7.26356e-06   </td> <td>5.47951e-07      </td>\n",
       "        </tr>\n",
       "    </tbody>\n",
       "        <tr>\n",
       "            <td>one  </td> <td>4.69177e-06   </td> <td>5.11803e-07      </td>\n",
       "        </tr>\n",
       "    </tbody>\n",
       "        <tr>\n",
       "            <td>in   </td> <td>1.36548e-05   </td> <td>5.04078e-07      </td>\n",
       "        </tr>\n",
       "    </tbody>\n",
       "</table>\n",
       "<p>... (4931 rows omitted)</p>"
      ],
      "text/plain": [
       "<IPython.core.display.HTML object>"
      ]
     },
     "metadata": {},
     "output_type": "display_data"
    },
    {
     "data": {
      "text/html": [
       "<table border=\"1\" class=\"dataframe\">\n",
       "    <thead>\n",
       "        <tr>\n",
       "            <th>Word</th> <th>Average TF-IDF</th>\n",
       "        </tr>\n",
       "    </thead>\n",
       "    <tbody>\n",
       "        <tr>\n",
       "            <td>the </td> <td>4.00677e-05   </td>\n",
       "        </tr>\n",
       "    </tbody>\n",
       "        <tr>\n",
       "            <td>i   </td> <td>3.91447e-05   </td>\n",
       "        </tr>\n",
       "    </tbody>\n",
       "        <tr>\n",
       "            <td>to  </td> <td>3.10553e-05   </td>\n",
       "        </tr>\n",
       "    </tbody>\n",
       "        <tr>\n",
       "            <td>a   </td> <td>2.80238e-05   </td>\n",
       "        </tr>\n",
       "    </tbody>\n",
       "        <tr>\n",
       "            <td>it  </td> <td>2.51467e-05   </td>\n",
       "        </tr>\n",
       "    </tbody>\n",
       "        <tr>\n",
       "            <td>and </td> <td>1.70222e-05   </td>\n",
       "        </tr>\n",
       "    </tbody>\n",
       "        <tr>\n",
       "            <td>that</td> <td>1.66949e-05   </td>\n",
       "        </tr>\n",
       "    </tbody>\n",
       "        <tr>\n",
       "            <td>of  </td> <td>1.53421e-05   </td>\n",
       "        </tr>\n",
       "    </tbody>\n",
       "        <tr>\n",
       "            <td>your</td> <td>1.46028e-05   </td>\n",
       "        </tr>\n",
       "    </tbody>\n",
       "        <tr>\n",
       "            <td>what</td> <td>1.43186e-05   </td>\n",
       "        </tr>\n",
       "    </tbody>\n",
       "        <tr>\n",
       "            <td>in  </td> <td>1.34322e-05   </td>\n",
       "        </tr>\n",
       "    </tbody>\n",
       "        <tr>\n",
       "            <td>me  </td> <td>1.23527e-05   </td>\n",
       "        </tr>\n",
       "    </tbody>\n",
       "        <tr>\n",
       "            <td>is  </td> <td>1.15547e-05   </td>\n",
       "        </tr>\n",
       "    </tbody>\n",
       "        <tr>\n",
       "            <td>do  </td> <td>1.02226e-05   </td>\n",
       "        </tr>\n",
       "    </tbody>\n",
       "        <tr>\n",
       "            <td>thi </td> <td>9.83443e-06   </td>\n",
       "        </tr>\n",
       "    </tbody>\n",
       "        <tr>\n",
       "            <td>he  </td> <td>9.51718e-06   </td>\n",
       "        </tr>\n",
       "    </tbody>\n",
       "        <tr>\n",
       "            <td>dont</td> <td>9.28171e-06   </td>\n",
       "        </tr>\n",
       "    </tbody>\n",
       "        <tr>\n",
       "            <td>for </td> <td>9.20416e-06   </td>\n",
       "        </tr>\n",
       "    </tbody>\n",
       "        <tr>\n",
       "            <td>im  </td> <td>9.05552e-06   </td>\n",
       "        </tr>\n",
       "    </tbody>\n",
       "        <tr>\n",
       "            <td>have</td> <td>8.92385e-06   </td>\n",
       "        </tr>\n",
       "    </tbody>\n",
       "</table>\n",
       "<p>... (4931 rows omitted)</p>"
      ],
      "text/plain": [
       "<IPython.core.display.HTML object>"
      ]
     },
     "metadata": {},
     "output_type": "display_data"
    }
   ],
   "source": [
    "abs_resid = action_words.column(\"Average TF-IDF\") - romance_words.column(\"Average TF-IDF\")\n",
    "both = action_words.drop(\"Frequency\").with_column(\"Absolute Residual\", abs_resid).sort(\"Absolute Residual\", descending=True)\n",
    "\n",
    "both.show(20)\n",
    "movie_words.sort(\"Average TF-IDF\", descending=True).show(20)"
   ]
  },
  {
   "cell_type": "code",
   "execution_count": 93,
   "metadata": {},
   "outputs": [
    {
     "data": {
      "text/plain": [
       "array(['the', 'we', 'of', 'is', 'us', 'thi', 'them', 'on', 'they', 'our',\n",
       "       'out', 'sir', 'were', 'there', 'get', 'got', 'power', 'are', 'one',\n",
       "       'in', 'he', 'from', 'need', 'as', 'theyr'], dtype='<U13')"
      ]
     },
     "execution_count": 93,
     "metadata": {},
     "output_type": "execute_result"
    }
   ],
   "source": [
    "words_of_interest = both.take(range(25)).column(\"Word\")\n",
    "words_of_interest"
   ]
  },
  {
   "cell_type": "code",
   "execution_count": 105,
   "metadata": {},
   "outputs": [],
   "source": [
    "highest_accuracy_features = both.take(range(2)).column(\"Word\")\n",
    "highest_accuracy_k = 21\n",
    "\n",
    "hf_train = training_set.select(highest_accuracy_features)\n",
    "hf_test = testing_set.select(highest_accuracy_features)\n",
    "\n",
    "def another_classifier(row, k=highest_accuracy_k, trainer=hf_train):\n",
    "    def classify_helper(test_row, train_rows, train_classes, k):\n",
    "        distances = fast_distances(test_row, train_rows)\n",
    "        genre_and_distances = Table().with_column(\"d\", distances).with_column(\"g\", train_classes).sort(\"d\")\n",
    "        return most_common(\"g\", genre_and_distances.take(range(k)))\n",
    "    return classify_helper(row, trainer, training_set.column(\"Genre\"), k)\n",
    "    \n",
    "def accuracy(features=highest_accuracy_features, trainers=hf_train, classifier=another_classifier, k=highest_accuracy_k):\n",
    "    train_words = training_set.select(features)\n",
    "    test_words = testing_set.select(features)\n",
    "    \n",
    "    test_guesses = []\n",
    "    for i in range(test_words.num_rows):\n",
    "        test_guesses.append(classifier(test_words.row(i), k, train_words))\n",
    "    test_guesses = np.array(test_guesses)\n",
    "    proportion_correct = np.count_nonzero(testing_set.column(\"Genre\") == test_guesses) / len(test_guesses)\n",
    "    return proportion_correct\n",
    "\n",
    "def fast_distances(test_row, train_rows):\n",
    "    counts_matrix = np.asmatrix(train_rows.columns).transpose()\n",
    "    diff = np.tile(np.array(test_row), [counts_matrix.shape[0], 1]) - counts_matrix\n",
    "    np.random.seed(0) # For tie breaking purposes\n",
    "    distances = np.squeeze(np.asarray(np.sqrt(np.square(diff).sum(1))))\n",
    "    eps = np.random.uniform(size=distances.shape)*1e-10 # Noise for tie break\n",
    "    distances = distances + eps\n",
    "    return distances\n",
    "\n",
    "def most_common(label, table):\n",
    "    lables = table.group(label).sort(\"count\", descending=True)\n",
    "    return lables.item(0)[0][0]"
   ]
  },
  {
   "cell_type": "code",
   "execution_count": 106,
   "metadata": {},
   "outputs": [
    {
     "data": {
      "text/plain": [
       "0.8611111111111112"
      ]
     },
     "execution_count": 106,
     "metadata": {},
     "output_type": "execute_result"
    }
   ],
   "source": [
    "accuracy()"
   ]
  },
  {
   "cell_type": "code",
   "execution_count": null,
   "metadata": {},
   "outputs": [],
   "source": []
  }
 ],
 "metadata": {
  "kernelspec": {
   "display_name": "Python 3",
   "language": "python",
   "name": "python3"
  },
  "language_info": {
   "codemirror_mode": {
    "name": "ipython",
    "version": 3
   },
   "file_extension": ".py",
   "mimetype": "text/x-python",
   "name": "python",
   "nbconvert_exporter": "python",
   "pygments_lexer": "ipython3",
   "version": "3.5.2"
  }
 },
 "nbformat": 4,
 "nbformat_minor": 2
}
